{
 "cells": [
  {
   "cell_type": "code",
   "execution_count": 14,
   "id": "8c6d4471-9f07-48b2-a3b1-bd82140f704c",
   "metadata": {},
   "outputs": [
    {
     "name": "stdout",
     "output_type": "stream",
     "text": [
      "['green', 'red', 'blue', 'blue']\n",
      "0.883\n"
     ]
    }
   ],
   "source": [
    "import copy\n",
    "import random\n",
    "# Consider using the modules imported above.\n",
    "\n",
    "class Hat:\n",
    "    def __init__(self, **kwargs):\n",
    "        self.contents = []\n",
    "        for color, count in kwargs.items():\n",
    "            self.contents.extend([color] * count)\n",
    "\n",
    "    def draw(self, count):\n",
    "        drawn_balls = []\n",
    "        for i in range(count):\n",
    "            if self.contents:\n",
    "                drawn_balls.append(self.contents.pop(random.randint(0, len(self.contents) - 1)))\n",
    "            else:\n",
    "                break\n",
    "        return drawn_balls\n",
    "\n",
    "\n",
    "hat = Hat(blue=3, green=2, red=1) \n",
    "drawn_balls = hat.draw(4)\n",
    "print(drawn_balls)\n",
    "\n",
    "def experiment(hat, expected_balls, num_balls_drawn, num_experiments):\n",
    "    successes = 0\n",
    "    for i in range(num_experiments):\n",
    "        \n",
    "        # Make a copy of the hat to perform the experiment on\n",
    "        experiment_hat = copy.deepcopy(hat)\n",
    "        \n",
    "        # Draw the specified number of balls from the hat\n",
    "        drawn_balls = experiment_hat.draw(num_balls_drawn)\n",
    "        \n",
    "        #Count how many of each type of ball we got \n",
    "        ball_counts = {}\n",
    "        \n",
    "        for ball in drawn_balls:\n",
    "            \n",
    "            if ball in ball_counts:\n",
    "                ball_counts[ball] += 1\n",
    "            else:\n",
    "                ball_counts[ball] = 1\n",
    "        \n",
    "        # Check if we got at least the expected number of each type of ball\n",
    "        \n",
    "        got_expected_balls = True\n",
    "        \n",
    "        for color, count in expected_balls.items():\n",
    "            if color not in ball_counts or ball_counts[color] < count:\n",
    "                got_expected_balls = False\n",
    "                break\n",
    "                \n",
    "            if got_expected_balls:\n",
    "                successes += 1\n",
    "    \n",
    "    # Calculate and return the probability of success\n",
    "    return successes / num_experiments\n",
    "            \n",
    "hat = Hat(red=4, green=3, black=6)\n",
    "probability = experiment(hat, {\"red\": 2, \"green\": 1}, 5, 1000)\n",
    "print(probability)\n",
    "\n",
    "    \n",
    "    "
   ]
  },
  {
   "cell_type": "code",
   "execution_count": null,
   "id": "5984701f-edf8-44f2-baa9-3fb4cd1f9002",
   "metadata": {},
   "outputs": [],
   "source": []
  }
 ],
 "metadata": {
  "kernelspec": {
   "display_name": "Python 3 (ipykernel)",
   "language": "python",
   "name": "python3"
  },
  "language_info": {
   "codemirror_mode": {
    "name": "ipython",
    "version": 3
   },
   "file_extension": ".py",
   "mimetype": "text/x-python",
   "name": "python",
   "nbconvert_exporter": "python",
   "pygments_lexer": "ipython3",
   "version": "3.9.13"
  }
 },
 "nbformat": 4,
 "nbformat_minor": 5
}
