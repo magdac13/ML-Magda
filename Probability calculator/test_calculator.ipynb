{
 "cells": [
  {
   "cell_type": "code",
   "execution_count": 1,
   "id": "a5033f25-f896-4442-abeb-1d6c8de2ef8f",
   "metadata": {},
   "outputs": [
    {
     "ename": "ModuleNotFoundError",
     "evalue": "No module named 'prob_calculator'",
     "output_type": "error",
     "traceback": [
      "\u001b[0;31m---------------------------------------------------------------------------\u001b[0m",
      "\u001b[0;31mModuleNotFoundError\u001b[0m                       Traceback (most recent call last)",
      "\u001b[0;32m/var/folders/sl/dtgn53v535v38lc7yttqrx0h0000gn/T/ipykernel_2172/492676152.py\u001b[0m in \u001b[0;36m<module>\u001b[0;34m\u001b[0m\n\u001b[1;32m      1\u001b[0m \u001b[0;32mimport\u001b[0m \u001b[0munittest\u001b[0m\u001b[0;34m\u001b[0m\u001b[0;34m\u001b[0m\u001b[0m\n\u001b[0;32m----> 2\u001b[0;31m \u001b[0;32mimport\u001b[0m \u001b[0mprob_calculator\u001b[0m\u001b[0;34m\u001b[0m\u001b[0;34m\u001b[0m\u001b[0m\n\u001b[0m\u001b[1;32m      3\u001b[0m \u001b[0;34m\u001b[0m\u001b[0m\n\u001b[1;32m      4\u001b[0m \u001b[0mprob_calculator\u001b[0m\u001b[0;34m.\u001b[0m\u001b[0mrandom\u001b[0m\u001b[0;34m.\u001b[0m\u001b[0mseed\u001b[0m\u001b[0;34m(\u001b[0m\u001b[0;36m95\u001b[0m\u001b[0;34m)\u001b[0m\u001b[0;34m\u001b[0m\u001b[0;34m\u001b[0m\u001b[0m\n\u001b[1;32m      5\u001b[0m \u001b[0;32mclass\u001b[0m \u001b[0mUnitTests\u001b[0m\u001b[0;34m(\u001b[0m\u001b[0munittest\u001b[0m\u001b[0;34m.\u001b[0m\u001b[0mTestCase\u001b[0m\u001b[0;34m)\u001b[0m\u001b[0;34m:\u001b[0m\u001b[0;34m\u001b[0m\u001b[0;34m\u001b[0m\u001b[0m\n",
      "\u001b[0;31mModuleNotFoundError\u001b[0m: No module named 'prob_calculator'"
     ]
    }
   ],
   "source": [
    "import unittest\n",
    "import prob_calculator\n",
    "\n",
    "prob_calculator.random.seed(95)\n",
    "class UnitTests(unittest.TestCase):\n",
    "    maxDiff = None\n",
    "    def test_hat_class_contents(self):\n",
    "        hat = prob_calculator.Hat(red=3,blue=2)\n",
    "        actual = hat.contents\n",
    "        expected = [\"red\",\"red\",\"red\",\"blue\",\"blue\"]\n",
    "        self.assertEqual(actual, expected, 'Expected creation of hat object to add correct contents.')\n",
    "\n",
    "    def test_hat_draw(self):\n",
    "        hat = prob_calculator.Hat(red=5,blue=2)\n",
    "        actual = hat.draw(2)\n",
    "        expected = ['blue', 'red']\n",
    "        self.assertEqual(actual, expected, 'Expected hat draw to return two random items from hat contents.')\n",
    "        actual = len(hat.contents)\n",
    "        expected = 5\n",
    "        self.assertEqual(actual, expected, 'Expected hat draw to reduce number of items in contents.')\n",
    "\n",
    "    def test_prob_experiment(self):\n",
    "        hat = prob_calculator.Hat(blue=3,red=2,green=6)\n",
    "        probability = prob_calculator.experiment(hat=hat, expected_balls={\"blue\":2,\"green\":1}, num_balls_drawn=4, num_experiments=1000)\n",
    "        actual = probability\n",
    "        expected = 0.272\n",
    "        self.assertAlmostEqual(actual, expected, delta = 0.01, msg = 'Expected experiment method to return a different probability.')\n",
    "        hat = prob_calculator.Hat(yellow=5,red=1,green=3,blue=9,test=1)\n",
    "        probability = prob_calculator.experiment(hat=hat, expected_balls={\"yellow\":2,\"blue\":3,\"test\":1}, num_balls_drawn=20, num_experiments=100)\n",
    "        actual = probability\n",
    "        expected = 1.0\n",
    "        self.assertAlmostEqual(actual, expected, delta = 0.01, msg = 'Expected experiment method to return a different probability.')\n",
    "\n",
    "\n",
    "if __name__ == \"__main__\":\n",
    "    unittest.main()\n"
   ]
  },
  {
   "cell_type": "code",
   "execution_count": null,
   "id": "64d58296-9c6f-4196-946f-48e0e59513cf",
   "metadata": {},
   "outputs": [],
   "source": []
  }
 ],
 "metadata": {
  "kernelspec": {
   "display_name": "Python 3 (ipykernel)",
   "language": "python",
   "name": "python3"
  },
  "language_info": {
   "codemirror_mode": {
    "name": "ipython",
    "version": 3
   },
   "file_extension": ".py",
   "mimetype": "text/x-python",
   "name": "python",
   "nbconvert_exporter": "python",
   "pygments_lexer": "ipython3",
   "version": "3.9.13"
  }
 },
 "nbformat": 4,
 "nbformat_minor": 5
}
