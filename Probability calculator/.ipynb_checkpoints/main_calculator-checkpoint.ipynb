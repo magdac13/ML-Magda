{
 "cells": [
  {
   "cell_type": "code",
   "execution_count": null,
   "id": "a1347e76-494a-4be3-b230-192add4918c9",
   "metadata": {},
   "outputs": [],
   "source": [
    "# This entrypoint file to be used in development. Start by reading README.md\n",
    "import prob_calculator\n",
    "from unittest import main\n",
    "\n",
    "prob_calculator.random.seed(95)\n",
    "hat = prob_calculator.Hat(blue=4, red=2, green=6)\n",
    "probability = prob_calculator.experiment(\n",
    "    hat=hat,\n",
    "    expected_balls={\"blue\": 2,\n",
    "                    \"red\": 1},\n",
    "    num_balls_drawn=4,\n",
    "    num_experiments=3000)\n",
    "print(\"Probability:\", probability)\n",
    "\n",
    "# Run unit tests automatically\n",
    "main(module='test_module', exit=False)\n"
   ]
  }
 ],
 "metadata": {
  "kernelspec": {
   "display_name": "Python 3 (ipykernel)",
   "language": "python",
   "name": "python3"
  },
  "language_info": {
   "codemirror_mode": {
    "name": "ipython",
    "version": 3
   },
   "file_extension": ".py",
   "mimetype": "text/x-python",
   "name": "python",
   "nbconvert_exporter": "python",
   "pygments_lexer": "ipython3",
   "version": "3.9.13"
  }
 },
 "nbformat": 4,
 "nbformat_minor": 5
}
